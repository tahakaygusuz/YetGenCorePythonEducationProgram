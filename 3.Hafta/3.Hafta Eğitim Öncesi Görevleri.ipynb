{
  "cells": [
    {
      "cell_type": "markdown",
      "metadata": {
        "id": "tsD4YVAe_Te2"
      },
      "source": [
        "# Problem 1\n",
        "Bir sayının 7'ye bölünebilir olup olmadığını kontrol etmek \n",
        "için bir program yazın.\n",
        "\n",
        "İpucu: Mod operatörünü (%) kullanabilirsiniz."
      ]
    },
    {
      "cell_type": "code",
      "execution_count": 47,
      "metadata": {
        "id": "NGjvNwKx_Te7"
      },
      "outputs": [
        {
          "name": "stdout",
          "output_type": "stream",
          "text": [
            "1 sayısı, 7'nin katı değildir.\n"
          ]
        }
      ],
      "source": [
        "sayi = int(input(\"Bir sayı giriniz:\"))\n",
        "if sayi%7==0:\n",
        "    print(f\"{sayi} sayısı, 7'nin tam katıdır.\")\n",
        "else:\n",
        "    print(f\"{sayi} sayısı, 7'nin katı değildir.\")"
      ]
    },
    {
      "cell_type": "markdown",
      "metadata": {
        "id": "Kg3qiBAI_Te8"
      },
      "source": [
        "# Problem 2\n",
        "Kullanıcıdan vize ve final notu isteyin. Girilen vize notunun %40’ı ve \n",
        "girilen finalnotunun ise %60’ı alınarak yıl sonu not ortalaması hesaplanacaktır. \n",
        "\n",
        "Bu not ortalaması eğer 85 ve üzeri ise AA, \n",
        "\n",
        "75 ve 85 arasında ise BA, \n",
        "\n",
        "70 ve 75 arasında ise BB, \n",
        "\n",
        "65 ve 70 arasında ise CB,\n",
        "\n",
        "60 ve 65 arasında ise CC,\n",
        "\n",
        "55 ve 60 arasında ise DC,\n",
        "\n",
        "50 ve 55 arasında ise DD olarak hesaplanacaktır. \n",
        "\n",
        "Bu öğrencinin yıl sonu toplam notu 50’nin altında ise FF ile dersten kalacaktır. \n",
        "\n",
        "Ayrıca öğrencinin final notu 50’nin altında ise direkt FF ile kalacaktır."
      ]
    },
    {
      "cell_type": "code",
      "execution_count": 52,
      "metadata": {
        "id": "MXTtCxI1_Te8"
      },
      "outputs": [
        {
          "name": "stdout",
          "output_type": "stream",
          "text": [
            "Vizeden 44, finalden 32 notlarını aldığınız için yıl sonu notunuz 36.8'dur. \n",
            "Harf notunuz FF'dir.\n",
            "Dersten kaldınız.\n"
          ]
        }
      ],
      "source": [
        "vize = int(input(\"Vize notunuzu yazınız:\"))\n",
        "final = int(input(\"Final notunuzu giriniz:\"))\n",
        "yilSonuNotu = (vize*40/100)+(final*60/100)\n",
        "print(f\"Vizeden {vize}, finalden {final} notlarını aldığınız için yıl sonu notunuz {yilSonuNotu}'dur. \")\n",
        "if yilSonuNotu>85:\n",
        "    print(\"Harf notunuz AA'dır.\")\n",
        "elif 75<yilSonuNotu<85:\n",
        "    print(\"Harf notunuz BA'dır.\")\n",
        "elif 70<yilSonuNotu<75:\n",
        "    print(\"Harf notunuz BB'dir.\")\n",
        "elif 65<yilSonuNotu<70:\n",
        "    print(\"Harf notunuz CB'dir.\")\n",
        "elif 60<yilSonuNotu<65:\n",
        "    print(\"Harf notunuz CC'dir.\")\n",
        "elif 55<yilSonuNotu<60:\n",
        "    print(\"Harf notunuz DC'dir.\")\n",
        "elif 50<yilSonuNotu<55:\n",
        "    print(\"Harf notunuz DD'dir.\")\n",
        "else:\n",
        "    print(\"Harf notunuz FF'dir.\")\n",
        "    print(\"Dersten kaldınız.\")"
      ]
    },
    {
      "cell_type": "markdown",
      "metadata": {
        "id": "tAoRYCTC_Te8"
      },
      "source": [
        "# Problem 3\n",
        "İki YetGenli Zirve'de karşılaşıyorlar. Birbirlerini tanımak için sorular soruyorlar. Birbirlerine yaşlarını soruyorlar. Akıllarına bir Python programı yazıp, yaşlarını ve isimlerini giriyorlar. Büyük olanın yaşını ekrana yazdıran programı yazıyorlar. Sende bu iki YetGenli'ye destek olmak ister misin?\n",
        "\n",
        "```\n",
        "Birinci YetGenlinin ismi: Ahmet\n",
        "Birinci YetGenlinin yaşı : 20\n",
        "İkinci YetGenlinin ismi: Mehmet\n",
        "İkinci YetGenlinin yaşı : 25\n",
        "Mehmet'in yaşı daha büyük ve yaşı 25'tir.\n",
        "```"
      ]
    },
    {
      "cell_type": "code",
      "execution_count": 13,
      "metadata": {
        "id": "bPjE8W0i_Te8"
      },
      "outputs": [
        {
          "name": "stdout",
          "output_type": "stream",
          "text": [
            "Büyük YetGen'li 25 yaşındadır.\n"
          ]
        }
      ],
      "source": [
        "birinciIsim = str(input(\"İlk YetGen'li ismini girsin:\"))\n",
        "birinciYas = int(input(\"İlk YetGen'li yaşını girsin:\"))\n",
        "ikinciIsim = str(input(\"İkinci YetGen'li ismini girsin:\"))\n",
        "ikinciYas = int(input(\"İkinci YetGen'li yaşını girsin:\"))\n",
        "if birinciYas<ikinciYas:\n",
        "    print(f\"Büyük YetGen'li {ikinciYas} yaşındadır.\")"
      ]
    },
    {
      "cell_type": "markdown",
      "metadata": {
        "id": "zBVv8Tyg_Te9"
      },
      "source": [
        "# Problem 4\n",
        "Pandemi döneminde AVM'lerde ateş ölçümü yapılıyor. AVM'ye giren kişinin ateş ölçümü 37.5 derecenin altında ise girişe izin veriliyor. 37.5 derecenin üstünde ise girişe izin verilmiyor. AVM'ye girişe izin verilip verilmediğini ekrana yazdıran bir program yazın.\n",
        "\n",
        "Program sonunda şöyle bir çıktı elde etmelisiniz:\n",
        "\n",
        "```\n",
        "Ateşiniz 37.5 derece. AVM'ye girebilirsin! Maske takmayı unutma!\n",
        "Ateşiniz 37.6 derece. AVM'ye giremezsin! Hemen evine dön!\n",
        "```"
      ]
    },
    {
      "cell_type": "code",
      "execution_count": 25,
      "metadata": {
        "id": "TSAXs8et_Te9"
      },
      "outputs": [
        {
          "name": "stdout",
          "output_type": "stream",
          "text": [
            "Ateşiniz 37.5 derece. AVM'ye girebilirsin! Maske takmayı unutma!\n"
          ]
        }
      ],
      "source": [
        "ates = float(input(\"İlk değeri giriniz:\"))\n",
        "if ilkAtes<=37.5:\n",
        "    print(f\"Ateşiniz {ates} derece. AVM'ye girebilirsin! Maske takmayı unutma!\")\n",
        "else:\n",
        "    print(f\"Ateşiniz {ates} derece. AVM'ye giremezsin! Hemen evine dön!\")"
      ]
    },
    {
      "cell_type": "markdown",
      "metadata": {
        "id": "6AEkZrDt_Te9"
      },
      "source": [
        "# Problem 5\n",
        "YetGen bir spor kulübüyle sponsorluk anlaşması yapıyor. Kulüp, sponsorluk anlaşmasına göre her YetGen liderinin beden kitle indeksini hesaplamak istiyor. Spor kulübü, beden kitle indeksini hesaplamak için YetGen Jump Python liderlerinden Berkcan ve Ahmet'i arıyor. Berkcan ve Ahmet, kulübe yardımcı olmak için bir Python programı yazıyorlar. Sende bu iki YetGen liderine destek olmak ister misin?\n",
        "\n",
        "Kullanıcıdan alınan boy ve kilo değerlerine göre beden kitle indeksini hesaplayın ve şu kurallara göre ekrana şu yazıları yazdırın.\n",
        "\n",
        "\n",
        "Beden Kitle İndeksi, kişinin ağırlığının (kg olarak) boyunun karesine (m olarak) bölünmesiyle hesaplanır.\n",
        "\n",
        "\n",
        "```\n",
        " BKİ 18.5'un altındaysa -------> Zayıf\n",
        "\n",
        " BKİ 18.5 ile 25 arasındaysa ------> Normal\n",
        "\n",
        " BKİ 25 ile 30 arasındaysa --------> Fazla Kilolu\n",
        "\n",
        " BKİ 30'un üstündeyse -------------> Obez\n",
        "```\n",
        "\n"
      ]
    },
    {
      "cell_type": "code",
      "execution_count": 26,
      "metadata": {
        "id": "t-XPI_u0_Te-"
      },
      "outputs": [
        {
          "name": "stdout",
          "output_type": "stream",
          "text": [
            "Beden kitle endeksiniz 22.448015122873343'dir.\n",
            "Normal orandasınız.\n"
          ]
        }
      ],
      "source": [
        "boy = float(input(\"Boyunuzu metre cinsinden giriniz:\"))\n",
        "kilo = float(input(\"Kilonuzu giriniz:\"))\n",
        "bedenKitleIndeksi = kilo/(boy**2)\n",
        "print(f\"Beden kitle endeksiniz {bedenKitleIndeksi}'dir.\")\n",
        "if bedenKitleIndeksi<18.5:\n",
        "    print(\"Zayıfsınız.\")\n",
        "elif 18.5<bedenKitleIndeksi<25:\n",
        "    print(\"Normal orandasınız.\")\n",
        "elif 25<bedenKitleIndeksi<30:\n",
        "    print(\"Fazla kilolusunuz.\")\n",
        "elif 30<bedenKitleIndeksi:\n",
        "    print(\"Obezsiniz.\")"
      ]
    },
    {
      "cell_type": "markdown",
      "metadata": {
        "id": "oFsvQyaO_Te-"
      },
      "source": [
        "# Problem 6\n",
        "Kullanıcıdan isim, yaş ve eğitim bilgilerini isteyip ehliyet alabilme  durumunu kontrol ediniz. \n",
        "\n",
        "Ehliyet alma koşulu en az 18 yaşında ve eğitim durumu lise ya da üniversite olmalıdır. "
      ]
    },
    {
      "cell_type": "code",
      "execution_count": 46,
      "metadata": {
        "id": "Tu2mcgco_Te-"
      },
      "outputs": [
        {
          "name": "stdout",
          "output_type": "stream",
          "text": [
            "Taha, henüz ehliyet alamazsın.\n"
          ]
        }
      ],
      "source": [
        "isim = str(input(\"Lütfen isminizi giriniz:\"))\n",
        "yas = int(input(\"Lütfen yaşınızı giriniz:\"))\n",
        "egitim = str(input(\"Lütfen eğitim durumunuzu giriniz:\"))\n",
        "if yas>=18 and (egitim==\"Lise\",\"lise\" or egitim==\"Üniversite\",\"üniversite\"):\n",
        "    print(f\"{isim}, ehliyet alabilirsin.\")\n",
        "else:\n",
        "    print(f\"{isim}, henüz ehliyet alamazsın.\")"
      ]
    },
    {
      "cell_type": "markdown",
      "metadata": {
        "id": "eUkxVSAE_Te_"
      },
      "source": [
        "# Problem 7\n",
        "Bir yılın artık yıl olup olmadığını kontrol etmek için bir program yazın. \n",
        "Artık yıl kuralı:\n",
        "\n",
        "a) Eğer yılın son iki basamağı (00) ile bitmiyor ve yalnızca 4'e tam bölünüyorsa artık yıldır. Ya da, \n",
        "\n",
        "b) Eğer yıl 400'e tam bölünüyorsa artık yıldır.\n",
        "\n",
        "**Örneğin**\n",
        "```\n",
        "2017 artık yıl değildir.\n",
        "1900 artık yıl değildir\n",
        "2012 artık yıldır.\n",
        "2000 artık yıldır.\n",
        "```"
      ]
    },
    {
      "cell_type": "code",
      "execution_count": 51,
      "metadata": {
        "id": "4uWh8qUL_Te_"
      },
      "outputs": [
        {
          "name": "stdout",
          "output_type": "stream",
          "text": [
            "2000 yılı artık yıldır.\n"
          ]
        }
      ],
      "source": [
        "yil = int(input(\"Lütfen bir yıl giriniz:\"))\n",
        "if (yil%100!=0 and yil%4==0) or yil%400==0:\n",
        "    print(f\"{yil} yılı artık yıldır.\")\n",
        "else:\n",
        "    print(f\"{yil} yılı artık yıl değildir.\")"
      ]
    }
  ],
  "metadata": {
    "colab": {
      "provenance": []
    },
    "kernelspec": {
      "display_name": "Python 3",
      "language": "python",
      "name": "python3"
    },
    "language_info": {
      "codemirror_mode": {
        "name": "ipython",
        "version": 3
      },
      "file_extension": ".py",
      "mimetype": "text/x-python",
      "name": "python",
      "nbconvert_exporter": "python",
      "pygments_lexer": "ipython3",
      "version": "3.11.1"
    },
    "orig_nbformat": 4,
    "vscode": {
      "interpreter": {
        "hash": "171dc467c5fee29b0ca744f585c31a2ebd9be9e1537d723e0222e7d751106eb5"
      }
    }
  },
  "nbformat": 4,
  "nbformat_minor": 0
}
